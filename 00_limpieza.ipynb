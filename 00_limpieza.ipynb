{
 "cells": [
  {
   "cell_type": "markdown",
   "metadata": {},
   "source": [
    "# Proyecto Integrador"
   ]
  },
  {
   "cell_type": "code",
   "execution_count": 1,
   "metadata": {},
   "outputs": [],
   "source": [
    "import pandas as pd"
   ]
  },
  {
   "cell_type": "markdown",
   "metadata": {},
   "source": [
    "## Importar data"
   ]
  },
  {
   "cell_type": "code",
   "execution_count": null,
   "metadata": {},
   "outputs": [],
   "source": [
    "raw = pd.read_excel('BBDD_Hospitalización.xlsx')"
   ]
  },
  {
   "cell_type": "code",
   "execution_count": 2,
   "metadata": {},
   "outputs": [],
   "source": [
    "nuevos_nombres = {\n",
    "    'EDAD': 'Edad',\n",
    "    'DIABETES': 'Diabetes',\n",
    "    'HOSPITALIZACIÓN ULTIMO MES': 'Hospitalizacion_Ultimo_Mes',\n",
    "    'PSA': 'PSA',\n",
    "    'BIOPSIAS PREVIAS': 'Biopsias_Previas',\n",
    "    'VOLUMEN PROSTATICO': 'Volumen_Prostatico',\n",
    "    'ANTIBIOTICO UTILIAZADO EN LA PROFILAXIS': 'Antibiotico_Profilaxis',\n",
    "    'NUMERO DE MUESTRAS TOMADAS': 'Numero_Muestras_Tomadas',\n",
    "    'CUP': 'CUP',\n",
    "    'ENF. CRONICA PULMONAR OBSTRUCTIVA': 'Enf_Cronica_Pulmonar_Obstructiva',\n",
    "    'BIOPSIA': 'Biopsia',\n",
    "    'NUMERO DE DIAS POST BIOPSIA EN QUE SE PRESENTA LA COMPLICACIÓN INFECCIOSA': 'Dias_Post_Biopsia_Complicacion',\n",
    "    'FIEBRE': 'Fiebre',\n",
    "    'ITU': 'ITU',\n",
    "    'TIPO DE CULTIVO': 'Tipo_Cultivo',\n",
    "    'AGENTE AISLADO': 'Agente_Aislado',\n",
    "    'PATRON DE RESISTENCIA': 'Patron_Resistencia',\n",
    "    'HOSPITALIZACION': 'Hospitalizacion',\n",
    "    'DIAS HOSPITALIZACION MQ': 'Dias_Hospitalizacion_MQ',\n",
    "    'DIAS HOSPITALIZACIÓN UPC': 'Dias_Hospitalizacion_UPC'\n",
    "}"
   ]
  },
  {
   "cell_type": "code",
   "execution_count": null,
   "metadata": {},
   "outputs": [],
   "source": [
    "df = raw.rename(columns=nuevos_nombres)"
   ]
  }
 ],
 "metadata": {
  "kernelspec": {
   "display_name": "Python 3",
   "language": "python",
   "name": "python3"
  },
  "language_info": {
   "codemirror_mode": {
    "name": "ipython",
    "version": 3
   },
   "file_extension": ".py",
   "mimetype": "text/x-python",
   "name": "python",
   "nbconvert_exporter": "python",
   "pygments_lexer": "ipython3",
   "version": "3.10.12"
  }
 },
 "nbformat": 4,
 "nbformat_minor": 2
}
