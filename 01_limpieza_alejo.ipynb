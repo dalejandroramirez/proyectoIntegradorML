{
 "cells": [
  {
   "cell_type": "markdown",
   "metadata": {},
   "source": [
    "# Proyecto Integrador 1"
   ]
  },
  {
   "cell_type": "code",
   "execution_count": 4,
   "metadata": {},
   "outputs": [],
   "source": [
    "import pandas as pd"
   ]
  },
  {
   "cell_type": "markdown",
   "metadata": {},
   "source": [
    "## Importar data"
   ]
  },
  {
   "cell_type": "code",
   "execution_count": 6,
   "metadata": {},
   "outputs": [
    {
     "name": "stderr",
     "output_type": "stream",
     "text": [
      "/home/pc/.local/lib/python3.10/site-packages/openpyxl/worksheet/_reader.py:329: UserWarning: Unknown extension is not supported and will be removed\n",
      "  warn(msg)\n"
     ]
    }
   ],
   "source": [
    "raw = pd.read_excel('BBDD_Hospitalización.xlsx')"
   ]
  },
  {
   "cell_type": "code",
   "execution_count": 28,
   "metadata": {},
   "outputs": [
    {
     "data": {
      "text/plain": [
       "(570, 20)"
      ]
     },
     "execution_count": 28,
     "metadata": {},
     "output_type": "execute_result"
    }
   ],
   "source": [
    "raw.shape"
   ]
  },
  {
   "cell_type": "markdown",
   "metadata": {},
   "source": [
    "## Limpieza de datos"
   ]
  },
  {
   "cell_type": "code",
   "execution_count": 7,
   "metadata": {},
   "outputs": [],
   "source": [
    "nuevos_nombres = {\n",
    "    'EDAD': 'Edad',\n",
    "    'DIABETES': 'Diabetes',\n",
    "    'HOSPITALIZACIÓN ULTIMO MES': 'Hospitalizacion_Ultimo_Mes',\n",
    "    'PSA': 'PSA',\n",
    "    'BIOPSIAS PREVIAS': 'Biopsias_Previas',\n",
    "    'VOLUMEN PROSTATICO': 'Volumen_Prostatico',\n",
    "    'ANTIBIOTICO UTILIAZADO EN LA PROFILAXIS': 'Antibiotico_Profilaxis',\n",
    "    'NUMERO DE MUESTRAS TOMADAS': 'Numero_Muestras_Tomadas',\n",
    "    'CUP': 'CUP',\n",
    "    'ENF. CRONICA PULMONAR OBSTRUCTIVA': 'Enf_Cronica_Pulmonar_Obstructiva',\n",
    "    'BIOPSIA': 'Biopsia',\n",
    "    'NUMERO DE DIAS POST BIOPSIA EN QUE SE PRESENTA LA COMPLICACIÓN INFECCIOSA': 'Dias_Post_Biopsia_Complicacion',\n",
    "    'FIEBRE': 'Fiebre',\n",
    "    'ITU': 'ITU',\n",
    "    'TIPO DE CULTIVO': 'Tipo_Cultivo',\n",
    "    'AGENTE AISLADO': 'Agente_Aislado',\n",
    "    'PATRON DE RESISTENCIA': 'Patron_Resistencia',\n",
    "    'HOSPITALIZACION': 'Hospitalizacion',\n",
    "    'DIAS HOSPITALIZACION MQ': 'Dias_Hospitalizacion_MQ',\n",
    "    'DIAS HOSPITALIZACIÓN UPC': 'Dias_Hospitalizacion_UPC'\n",
    "}"
   ]
  },
  {
   "cell_type": "code",
   "execution_count": 8,
   "metadata": {},
   "outputs": [],
   "source": [
    "df = raw.rename(columns=nuevos_nombres)"
   ]
  },
  {
   "cell_type": "markdown",
   "metadata": {},
   "source": [
    "## Limpieza de datos"
   ]
  },
  {
   "cell_type": "markdown",
   "metadata": {},
   "source": [
    "#### Eliminamos datos nulos\n",
    "\n",
    "- [568 , 569] : Son datos que no tienen ninguna informacion \n",
    "- [31, 100, 109]:  Son datos que faltan en la columna hospitalización 'Hospitalizacion'\n",
    "- [181 , 161]: Son dos Personas con mas de 140 años \n",
    "- [9, 76, 103, 121] : Nulos en psa\n",
    "- [92 , 565] "
   ]
  },
  {
   "cell_type": "code",
   "execution_count": 18,
   "metadata": {},
   "outputs": [
    {
     "data": {
      "text/plain": [
       "Edad                                 0\n",
       "Diabetes                             0\n",
       "Hospitalizacion_Ultimo_Mes           0\n",
       "PSA                                  4\n",
       "Biopsias_Previas                     2\n",
       "Volumen_Prostatico                   1\n",
       "Antibiotico_Profilaxis               0\n",
       "Numero_Muestras_Tomadas              0\n",
       "CUP                                  1\n",
       "Enf_Cronica_Pulmonar_Obstructiva     2\n",
       "Biopsia                              0\n",
       "Dias_Post_Biopsia_Complicacion       0\n",
       "Fiebre                               0\n",
       "ITU                                  0\n",
       "Tipo_Cultivo                         0\n",
       "Agente_Aislado                      17\n",
       "Patron_Resistencia                   0\n",
       "Hospitalizacion                      3\n",
       "Dias_Hospitalizacion_MQ              0\n",
       "Dias_Hospitalizacion_UPC             0\n",
       "dtype: int64"
      ]
     },
     "execution_count": 18,
     "metadata": {},
     "output_type": "execute_result"
    }
   ],
   "source": [
    "df.isna().sum()"
   ]
  },
  {
   "cell_type": "code",
   "execution_count": 12,
   "metadata": {},
   "outputs": [],
   "source": [
    "df.drop([568,569,31,100,109], inplace=True) "
   ]
  },
  {
   "cell_type": "markdown",
   "metadata": {},
   "source": [
    "#### Columnas relevantes "
   ]
  },
  {
   "cell_type": "code",
   "execution_count": 19,
   "metadata": {},
   "outputs": [],
   "source": [
    "columnas = ['Edad','Diabetes','Hospitalizacion_Ultimo_Mes','PSA','Biopsias_Previas','Volumen_Prostatico','CUP','Enf_Cronica_Pulmonar_Obstructiva','Biopsia','Dias_Post_Biopsia_Complicacion','Fiebre','ITU','Tipo_Cultivo','Agente_Aislado','Patron_Resistencia','Dias_Hospitalizacion_MQ','Dias_Hospitalizacion_UPC']\n",
    "\n",
    "columnas_drop = ['Hospitalizacion_Ultimo_Mes','Antibiotico_Profilaxis','Numero_Muestras_Tomadas']\n"
   ]
  },
  {
   "cell_type": "code",
   "execution_count": 23,
   "metadata": {},
   "outputs": [
    {
     "data": {
      "text/plain": [
       "NO                          560\n",
       "UROCULTIVO                    4\n",
       "HEMOCULTIVO                   2\n",
       "HEMOCULTIVO Y UROCULTIVO      2\n",
       "Name: Tipo_Cultivo, dtype: int64"
      ]
     },
     "execution_count": 23,
     "metadata": {},
     "output_type": "execute_result"
    }
   ],
   "source": [
    "df['Tipo_Cultivo'].value_counts()"
   ]
  },
  {
   "cell_type": "code",
   "execution_count": 27,
   "metadata": {},
   "outputs": [
    {
     "data": {
      "text/plain": [
       "NO    541\n",
       "SI     24\n",
       "Name: Hospitalizacion, dtype: int64"
      ]
     },
     "execution_count": 27,
     "metadata": {},
     "output_type": "execute_result"
    }
   ],
   "source": [
    "df['Hospitalizacion'].value_counts()"
   ]
  },
  {
   "cell_type": "code",
   "execution_count": 33,
   "metadata": {},
   "outputs": [
    {
     "data": {
      "text/html": [
       "<div>\n",
       "<style scoped>\n",
       "    .dataframe tbody tr th:only-of-type {\n",
       "        vertical-align: middle;\n",
       "    }\n",
       "\n",
       "    .dataframe tbody tr th {\n",
       "        vertical-align: top;\n",
       "    }\n",
       "\n",
       "    .dataframe thead th {\n",
       "        text-align: right;\n",
       "    }\n",
       "</style>\n",
       "<table border=\"1\" class=\"dataframe\">\n",
       "  <thead>\n",
       "    <tr style=\"text-align: right;\">\n",
       "      <th></th>\n",
       "      <th>Edad</th>\n",
       "      <th>Diabetes</th>\n",
       "      <th>Hospitalizacion_Ultimo_Mes</th>\n",
       "      <th>PSA</th>\n",
       "      <th>Biopsias_Previas</th>\n",
       "      <th>Volumen_Prostatico</th>\n",
       "      <th>Antibiotico_Profilaxis</th>\n",
       "      <th>Numero_Muestras_Tomadas</th>\n",
       "      <th>CUP</th>\n",
       "      <th>Enf_Cronica_Pulmonar_Obstructiva</th>\n",
       "      <th>Biopsia</th>\n",
       "      <th>Dias_Post_Biopsia_Complicacion</th>\n",
       "      <th>Fiebre</th>\n",
       "      <th>ITU</th>\n",
       "      <th>Tipo_Cultivo</th>\n",
       "      <th>Agente_Aislado</th>\n",
       "      <th>Patron_Resistencia</th>\n",
       "      <th>Hospitalizacion</th>\n",
       "      <th>Dias_Hospitalizacion_MQ</th>\n",
       "      <th>Dias_Hospitalizacion_UPC</th>\n",
       "    </tr>\n",
       "  </thead>\n",
       "  <tbody>\n",
       "    <tr>\n",
       "      <th>181</th>\n",
       "      <td>151.0</td>\n",
       "      <td>NO</td>\n",
       "      <td>NO</td>\n",
       "      <td>5.7</td>\n",
       "      <td>NO</td>\n",
       "      <td>SI</td>\n",
       "      <td>OTROS</td>\n",
       "      <td>12.0</td>\n",
       "      <td>NO</td>\n",
       "      <td>NO</td>\n",
       "      <td>NEG</td>\n",
       "      <td>NO</td>\n",
       "      <td>NO</td>\n",
       "      <td>NO</td>\n",
       "      <td>NO</td>\n",
       "      <td>NO</td>\n",
       "      <td>NO</td>\n",
       "      <td>NO</td>\n",
       "      <td>0.0</td>\n",
       "      <td>0.0</td>\n",
       "    </tr>\n",
       "    <tr>\n",
       "      <th>161</th>\n",
       "      <td>143.0</td>\n",
       "      <td>SI</td>\n",
       "      <td>NO</td>\n",
       "      <td>6.8</td>\n",
       "      <td>NO</td>\n",
       "      <td>NO</td>\n",
       "      <td>FLUOROQUINOLONA_AMINOGLICOSIDO</td>\n",
       "      <td>12.0</td>\n",
       "      <td>NO</td>\n",
       "      <td>NO</td>\n",
       "      <td>NEG</td>\n",
       "      <td>NO</td>\n",
       "      <td>NO</td>\n",
       "      <td>NO</td>\n",
       "      <td>NO</td>\n",
       "      <td>NO</td>\n",
       "      <td>NO</td>\n",
       "      <td>NO</td>\n",
       "      <td>0.0</td>\n",
       "      <td>0.0</td>\n",
       "    </tr>\n",
       "  </tbody>\n",
       "</table>\n",
       "</div>"
      ],
      "text/plain": [
       "      Edad Diabetes Hospitalizacion_Ultimo_Mes  PSA Biopsias_Previas  \\\n",
       "181  151.0       NO                         NO  5.7               NO   \n",
       "161  143.0       SI                         NO  6.8               NO   \n",
       "\n",
       "    Volumen_Prostatico          Antibiotico_Profilaxis  \\\n",
       "181                 SI                           OTROS   \n",
       "161                 NO  FLUOROQUINOLONA_AMINOGLICOSIDO   \n",
       "\n",
       "     Numero_Muestras_Tomadas CUP Enf_Cronica_Pulmonar_Obstructiva Biopsia  \\\n",
       "181                     12.0  NO                               NO     NEG   \n",
       "161                     12.0  NO                               NO     NEG   \n",
       "\n",
       "    Dias_Post_Biopsia_Complicacion Fiebre ITU Tipo_Cultivo Agente_Aislado  \\\n",
       "181                             NO     NO  NO           NO             NO   \n",
       "161                             NO     NO  NO           NO             NO   \n",
       "\n",
       "    Patron_Resistencia Hospitalizacion  Dias_Hospitalizacion_MQ  \\\n",
       "181                 NO              NO                      0.0   \n",
       "161                 NO              NO                      0.0   \n",
       "\n",
       "     Dias_Hospitalizacion_UPC  \n",
       "181                       0.0  \n",
       "161                       0.0  "
      ]
     },
     "execution_count": 33,
     "metadata": {},
     "output_type": "execute_result"
    }
   ],
   "source": [
    "df.loc[[181,161]]"
   ]
  },
  {
   "cell_type": "code",
   "execution_count": 37,
   "metadata": {},
   "outputs": [
    {
     "data": {
      "text/plain": [
       "69.0     39\n",
       "63.0     32\n",
       "68.0     31\n",
       "64.0     31\n",
       "62.0     29\n",
       "67.0     29\n",
       "66.0     29\n",
       "71.0     27\n",
       "59.0     27\n",
       "61.0     26\n",
       "58.0     25\n",
       "60.0     21\n",
       "65.0     21\n",
       "57.0     19\n",
       "73.0     14\n",
       "55.0     14\n",
       "70.0     13\n",
       "53.0     13\n",
       "56.0     13\n",
       "75.0     12\n",
       "54.0     12\n",
       "74.0     11\n",
       "52.0      9\n",
       "81.0      7\n",
       "51.0      6\n",
       "78.0      6\n",
       "42.0      6\n",
       "50.0      5\n",
       "77.0      5\n",
       "79.0      4\n",
       "72.0      4\n",
       "47.0      4\n",
       "84.0      3\n",
       "49.0      3\n",
       "76.0      3\n",
       "82.0      2\n",
       "39.0      2\n",
       "48.0      2\n",
       "46.0      2\n",
       "45.0      2\n",
       "80.0      1\n",
       "44.0      1\n",
       "43.0      1\n",
       "143.0     1\n",
       "151.0     1\n",
       "Name: Edad, dtype: int64"
      ]
     },
     "execution_count": 37,
     "metadata": {},
     "output_type": "execute_result"
    }
   ],
   "source": [
    "df.Edad.sort_values().value_counts()"
   ]
  }
 ],
 "metadata": {
  "kernelspec": {
   "display_name": "Python 3",
   "language": "python",
   "name": "python3"
  },
  "language_info": {
   "codemirror_mode": {
    "name": "ipython",
    "version": 3
   },
   "file_extension": ".py",
   "mimetype": "text/x-python",
   "name": "python",
   "nbconvert_exporter": "python",
   "pygments_lexer": "ipython3",
   "version": "3.10.12"
  }
 },
 "nbformat": 4,
 "nbformat_minor": 2
}
